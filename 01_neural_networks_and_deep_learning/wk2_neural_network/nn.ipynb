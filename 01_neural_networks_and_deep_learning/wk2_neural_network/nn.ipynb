{
 "cells": [
  {
   "cell_type": "code",
   "execution_count": 1,
   "id": "6861e0e3",
   "metadata": {},
   "outputs": [],
   "source": [
    "import numpy as np"
   ]
  },
  {
   "cell_type": "code",
   "execution_count": 13,
   "id": "7e1db777",
   "metadata": {},
   "outputs": [
    {
     "data": {
      "text/plain": [
       "0"
      ]
     },
     "execution_count": 13,
     "metadata": {},
     "output_type": "execute_result"
    }
   ],
   "source": [
    "100% 100"
   ]
  },
  {
   "cell_type": "code",
   "execution_count": 7,
   "id": "7f625db3",
   "metadata": {},
   "outputs": [
    {
     "data": {
      "text/plain": [
       "12288"
      ]
     },
     "execution_count": 7,
     "metadata": {},
     "output_type": "execute_result"
    }
   ],
   "source": [
    "64 * 64 * 3"
   ]
  },
  {
   "cell_type": "code",
   "execution_count": 14,
   "id": "d8b252d1",
   "metadata": {},
   "outputs": [
    {
     "data": {
      "text/plain": [
       "array([[0.],\n",
       "       [0.],\n",
       "       [0.],\n",
       "       [0.],\n",
       "       [0.],\n",
       "       [0.],\n",
       "       [0.],\n",
       "       [0.],\n",
       "       [0.],\n",
       "       [0.]])"
      ]
     },
     "execution_count": 14,
     "metadata": {},
     "output_type": "execute_result"
    }
   ],
   "source": [
    "np.zeros((10,1))"
   ]
  },
  {
   "cell_type": "code",
   "execution_count": 2,
   "id": "560439d9",
   "metadata": {},
   "outputs": [],
   "source": [
    "# GRADED FUNCTION:image2vector\n",
    "\n",
    "\n",
    "def image2vector(image):\n",
    "    \"\"\"\n",
    "    Argument:\n",
    "    image -- a numpy array of shape (length, height, depth)\n",
    "\n",
    "    Returns:\n",
    "    v -- a vector of shape (length*height*depth, 1)\n",
    "    \"\"\"\n",
    "\n",
    "    # (≈ 1 line of code)\n",
    "    # v =\n",
    "    # YOUR CODE STARTS HERE\n",
    "    #     v = image.reshape((image.shape[0]*image.shape[1], image.shape[2]))\n",
    "    v = np.array([image.shape[0], image.shape[1], image.shape[2]]).reshape(\n",
    "        image.shape[0] * image.shape[1] * 3, 1\n",
    "    )\n",
    "\n",
    "    # YOUR CODE ENDS HERE\n",
    "\n",
    "    return v\n"
   ]
  },
  {
   "cell_type": "code",
   "execution_count": 3,
   "id": "2859d133",
   "metadata": {},
   "outputs": [],
   "source": [
    "# This is a 3 by 3 by 2 array, typically images will be (num_px_x, num_px_y,3) where 3 represents the RGB values\n",
    "t_image = np.array(\n",
    "    [\n",
    "        [[0.67826139, 0.29380381], [0.90714982, 0.52835647], [0.4215251, 0.45017551]],\n",
    "        [[0.92814219, 0.96677647], [0.85304703, 0.52351845], [0.19981397, 0.27417313]],\n",
    "        [[0.60659855, 0.00533165], [0.10820313, 0.49978937], [0.34144279, 0.94630077]],\n",
    "    ]\n",
    ")\n",
    "\n",
    "# print(\"image2vector(image) = \" + str(image2vector(t_image)))\n",
    "\n",
    "# image2vector_test(image2vector)\n"
   ]
  },
  {
   "cell_type": "code",
   "execution_count": null,
   "id": "204f3109",
   "metadata": {},
   "outputs": [
    {
     "data": {
      "text/plain": [
       "18"
      ]
     },
     "execution_count": 28,
     "metadata": {},
     "output_type": "execute_result"
    }
   ],
   "source": [
    "# t_image.shape\n"
   ]
  },
  {
   "cell_type": "code",
   "execution_count": 35,
   "id": "3d637f61",
   "metadata": {},
   "outputs": [
    {
     "data": {
      "text/plain": [
       "array([[0.62952301, 0.28404261],\n",
       "       [0.77384146, 0.27660436],\n",
       "       [0.0842266 , 0.12342603]])"
      ]
     },
     "execution_count": 35,
     "metadata": {},
     "output_type": "execute_result"
    }
   ],
   "source": [
    "np.multiply(t_image[0],t_image[1])"
   ]
  }
 ],
 "metadata": {
  "kernelspec": {
   "display_name": "dsenv",
   "language": "python",
   "name": "python3"
  },
  "language_info": {
   "codemirror_mode": {
    "name": "ipython",
    "version": 3
   },
   "file_extension": ".py",
   "mimetype": "text/x-python",
   "name": "python",
   "nbconvert_exporter": "python",
   "pygments_lexer": "ipython3",
   "version": "3.13.2"
  }
 },
 "nbformat": 4,
 "nbformat_minor": 5
}
