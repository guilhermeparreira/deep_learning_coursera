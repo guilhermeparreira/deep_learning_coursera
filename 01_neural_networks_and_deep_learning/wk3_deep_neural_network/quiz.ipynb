{
 "cells": [
  {
   "cell_type": "code",
   "execution_count": 1,
   "id": "7004d55c",
   "metadata": {},
   "outputs": [],
   "source": [
    "import numpy as np"
   ]
  },
  {
   "cell_type": "code",
   "execution_count": 2,
   "id": "74098445",
   "metadata": {},
   "outputs": [],
   "source": [
    "x = np.random.rand(4, 5)\n",
    "\n",
    "# y = np.sum(x, axis=1)\n"
   ]
  },
  {
   "cell_type": "code",
   "execution_count": 8,
   "id": "7d1944a0",
   "metadata": {},
   "outputs": [
    {
     "data": {
      "text/plain": [
       "(4, 5)"
      ]
     },
     "execution_count": 8,
     "metadata": {},
     "output_type": "execute_result"
    }
   ],
   "source": [
    "x.shape"
   ]
  },
  {
   "cell_type": "code",
   "execution_count": 11,
   "id": "10e85cf7",
   "metadata": {},
   "outputs": [
    {
     "data": {
      "text/plain": [
       "(4, 1)"
      ]
     },
     "execution_count": 11,
     "metadata": {},
     "output_type": "execute_result"
    }
   ],
   "source": [
    "np.sum(x, axis=1, keepdims=True).shape"
   ]
  },
  {
   "cell_type": "code",
   "execution_count": 1,
   "id": "d2796af3",
   "metadata": {},
   "outputs": [
    {
     "name": "stdout",
     "output_type": "stream",
     "text": [
      "[[1 2]\n",
      " [3 4]]\n",
      "[[5 6]\n",
      " [7 8]]\n",
      "Matrix product with matmul:\n",
      " [[19 22]\n",
      " [43 50]]\n",
      "Matrix product with @ operator:\n",
      " [[19 22]\n",
      " [43 50]]\n",
      "Matrix product with dot:\n",
      " [[19 22]\n",
      " [43 50]]\n",
      "Element-wise multiplication:\n",
      " [[ 5 12]\n",
      " [21 32]]\n"
     ]
    }
   ],
   "source": [
    "import numpy as np\n",
    "\n",
    "A = np.array([[1, 2], [3, 4]])\n",
    "B = np.array([[5, 6], [7, 8]])\n",
    "\n",
    "print(A)\n",
    "print(B)\n",
    "\n",
    "\n",
    "# Matrix multiplication using matmul\n",
    "C_matmul = np.matmul(A, B)\n",
    "print(\"Matrix product with matmul:\\n\", C_matmul)\n",
    "\n",
    "# Matrix multiplication using @ operator\n",
    "C_at_operator = A @ B\n",
    "print(\"Matrix product with @ operator:\\n\", C_at_operator)\n",
    "\n",
    "# Matrix multiplication using dot (for 2D arrays)\n",
    "C_dot = np.dot(A, B)\n",
    "print(\"Matrix product with dot:\\n\", C_dot)\n",
    "\n",
    "# Element-wise multiplication\n",
    "C_element_wise = np.multiply(A, B)\n",
    "print(\"Element-wise multiplication:\\n\", C_element_wise)\n"
   ]
  },
  {
   "cell_type": "code",
   "execution_count": 7,
   "id": "65d50024",
   "metadata": {},
   "outputs": [
    {
     "data": {
      "text/plain": [
       "array([[1, 3],\n",
       "       [2, 4]])"
      ]
     },
     "execution_count": 7,
     "metadata": {},
     "output_type": "execute_result"
    }
   ],
   "source": [
    "np.transpose(A)"
   ]
  }
 ],
 "metadata": {
  "kernelspec": {
   "display_name": "dsenv",
   "language": "python",
   "name": "python3"
  },
  "language_info": {
   "codemirror_mode": {
    "name": "ipython",
    "version": 3
   },
   "file_extension": ".py",
   "mimetype": "text/x-python",
   "name": "python",
   "nbconvert_exporter": "python",
   "pygments_lexer": "ipython3",
   "version": "3.13.2"
  }
 },
 "nbformat": 4,
 "nbformat_minor": 5
}
