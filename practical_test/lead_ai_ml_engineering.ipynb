{
 "cells": [
  {
   "cell_type": "code",
   "execution_count": 1,
   "id": "9542195d",
   "metadata": {},
   "outputs": [],
   "source": [
    "import numpy as np\n",
    "import pandas as pd"
   ]
  },
  {
   "cell_type": "code",
   "execution_count": 2,
   "id": "16fb1621",
   "metadata": {},
   "outputs": [
    {
     "data": {
      "text/plain": [
       "array([6, 7, 8, 9])"
      ]
     },
     "execution_count": 2,
     "metadata": {},
     "output_type": "execute_result"
    }
   ],
   "source": [
    "arr = np.arange(10)\n",
    "arr2 = np.arange(start=5, stop=15)\n",
    "arr[arr%2==0].mean()\n",
    "arr[arr>5]"
   ]
  },
  {
   "cell_type": "code",
   "execution_count": 3,
   "id": "0594c5b5",
   "metadata": {},
   "outputs": [
    {
     "data": {
      "text/plain": [
       "array([0, 1, 2, 3, 4, 5, 6, 7, 8, 9])"
      ]
     },
     "execution_count": 3,
     "metadata": {},
     "output_type": "execute_result"
    }
   ],
   "source": [
    "arr"
   ]
  },
  {
   "cell_type": "code",
   "execution_count": 4,
   "id": "1067fd99",
   "metadata": {},
   "outputs": [
    {
     "data": {
      "text/plain": [
       "a\n",
       "x    1.9\n",
       "y    3.9\n",
       "z    5.0\n",
       "dtype: float64"
      ]
     },
     "execution_count": 4,
     "metadata": {},
     "output_type": "execute_result"
    }
   ],
   "source": [
    "df = pd.DataFrame(({\"a\":[\"x\", \"x\", \"y\", \"y\", \"z\"], \"b\":[1,2,3,4,5]}))\n",
    "df.groupby(\"a\").apply(lambda x: x[\"b\"].quantile(q=0.9), include_groups=False) #type: ignore"
   ]
  },
  {
   "cell_type": "code",
   "execution_count": 5,
   "id": "1786ef3a",
   "metadata": {},
   "outputs": [
    {
     "data": {
      "text/html": [
       "<div>\n",
       "<style scoped>\n",
       "    .dataframe tbody tr th:only-of-type {\n",
       "        vertical-align: middle;\n",
       "    }\n",
       "\n",
       "    .dataframe tbody tr th {\n",
       "        vertical-align: top;\n",
       "    }\n",
       "\n",
       "    .dataframe thead th {\n",
       "        text-align: right;\n",
       "    }\n",
       "</style>\n",
       "<table border=\"1\" class=\"dataframe\">\n",
       "  <thead>\n",
       "    <tr style=\"text-align: right;\">\n",
       "      <th></th>\n",
       "      <th>b</th>\n",
       "    </tr>\n",
       "  </thead>\n",
       "  <tbody>\n",
       "    <tr>\n",
       "      <th>0</th>\n",
       "      <td>1</td>\n",
       "    </tr>\n",
       "    <tr>\n",
       "      <th>1</th>\n",
       "      <td>2</td>\n",
       "    </tr>\n",
       "  </tbody>\n",
       "</table>\n",
       "</div>"
      ],
      "text/plain": [
       "   b\n",
       "0  1\n",
       "1  2"
      ]
     },
     "execution_count": 5,
     "metadata": {},
     "output_type": "execute_result"
    }
   ],
   "source": [
    "df[df[\"a\"]==\"x\"][[\"b\"]]"
   ]
  },
  {
   "cell_type": "code",
   "execution_count": 6,
   "id": "b9bc8296",
   "metadata": {},
   "outputs": [],
   "source": [
    "def remove_outliers(df:pd.DataFrame, column:str, cutoff:float)->pd.DataFrame:\n",
    "    q1 = df[\"x\"].quantile(q=.25)\n",
    "    q3 = df[\"x\"].quantile(q=0.75)\n",
    "    IQR = q3-q1\n",
    "    inf_limit = q1-cutoff*IQR\n",
    "    sup_limit = q3+cutoff*IQR\n",
    "    mask = ((df[\"x\"] > inf_limit) & (df[\"x\"] < sup_limit))\n",
    "    df_without_outlier = df.loc[mask]\n",
    "    return df_without_outlier\n",
    "def remove_outliers_quantile(df:pd.DataFrame, column:str, cutoff:float)->pd.DataFrame:\n",
    "    upper99 = df[\"x\"].quantile(q=.99)\n",
    "    lower1 = df[\"x\"].quantile(q=0.01)\n",
    "    mask =(df[\"x\"]>lower1) & (df[\"x\"]<upper99)\n",
    "    return df[mask]"
   ]
  },
  {
   "cell_type": "code",
   "execution_count": 7,
   "id": "113bae56",
   "metadata": {},
   "outputs": [
    {
     "name": "stdout",
     "output_type": "stream",
     "text": [
      "-100.0\n",
      "200.0\n",
      "102 -> 100\n"
     ]
    }
   ],
   "source": [
    "np.random.seed(0)\n",
    "df = pd.DataFrame({\"x\": np.concatenate([np.random.normal(50, 5, 100), [200, -100]])})\n",
    "print(df[\"x\"].min())\n",
    "print(df[\"x\"].max())\n",
    "clean = remove_outliers(df, \"x\", cutoff=1.5)\n",
    "print(len(df), \"->\", len(clean))"
   ]
  },
  {
   "cell_type": "code",
   "execution_count": 8,
   "id": "a8d33844",
   "metadata": {},
   "outputs": [
    {
     "name": "stdout",
     "output_type": "stream",
     "text": [
      "102 -> 98\n"
     ]
    }
   ],
   "source": [
    "np.random.seed(0)\n",
    "df = pd.DataFrame({\"x\": np.concatenate([np.random.normal(50, 5, 100), [200, -100]])})\n",
    "clean = remove_outliers_quantile(df, \"x\", cutoff=1.5)\n",
    "print(len(df), \"->\", len(clean))"
   ]
  },
  {
   "cell_type": "markdown",
   "id": "b6b54a38",
   "metadata": {},
   "source": [
    "# New"
   ]
  },
  {
   "cell_type": "code",
   "execution_count": 16,
   "id": "e95529e9",
   "metadata": {},
   "outputs": [
    {
     "data": {
      "text/html": [
       "<div>\n",
       "<style scoped>\n",
       "    .dataframe tbody tr th:only-of-type {\n",
       "        vertical-align: middle;\n",
       "    }\n",
       "\n",
       "    .dataframe tbody tr th {\n",
       "        vertical-align: top;\n",
       "    }\n",
       "\n",
       "    .dataframe thead th {\n",
       "        text-align: right;\n",
       "    }\n",
       "</style>\n",
       "<table border=\"1\" class=\"dataframe\">\n",
       "  <thead>\n",
       "    <tr style=\"text-align: right;\">\n",
       "      <th></th>\n",
       "      <th>a</th>\n",
       "      <th>b</th>\n",
       "    </tr>\n",
       "  </thead>\n",
       "  <tbody>\n",
       "    <tr>\n",
       "      <th>0</th>\n",
       "      <td>x</td>\n",
       "      <td>1</td>\n",
       "    </tr>\n",
       "    <tr>\n",
       "      <th>1</th>\n",
       "      <td>x</td>\n",
       "      <td>2</td>\n",
       "    </tr>\n",
       "    <tr>\n",
       "      <th>2</th>\n",
       "      <td>x</td>\n",
       "      <td>5</td>\n",
       "    </tr>\n",
       "    <tr>\n",
       "      <th>5</th>\n",
       "      <td>z</td>\n",
       "      <td>2</td>\n",
       "    </tr>\n",
       "    <tr>\n",
       "      <th>6</th>\n",
       "      <td>z</td>\n",
       "      <td>2</td>\n",
       "    </tr>\n",
       "  </tbody>\n",
       "</table>\n",
       "</div>"
      ],
      "text/plain": [
       "   a  b\n",
       "0  x  1\n",
       "1  x  2\n",
       "2  x  5\n",
       "5  z  2\n",
       "6  z  2"
      ]
     },
     "execution_count": 16,
     "metadata": {},
     "output_type": "execute_result"
    }
   ],
   "source": [
    "df = pd.DataFrame({\n",
    "    'a': ['x','x','x','y','y','z','z'],\n",
    "    'b': [1,2,5,1,3,2,2]\n",
    "})\n",
    "df.groupby([\"a\"]).filter(lambda x: (x[\"b\"]==2).any())"
   ]
  },
  {
   "cell_type": "code",
   "execution_count": null,
   "id": "4ba77c10",
   "metadata": {},
   "outputs": [],
   "source": [
    "arr = np.random.randint(low=80, high=120)"
   ]
  },
  {
   "cell_type": "code",
   "execution_count": 33,
   "id": "d9ba207c",
   "metadata": {},
   "outputs": [
    {
     "data": {
      "text/plain": [
       "array([[ 92, 118, 115, 102,  85],\n",
       "       [103, 112,  91, 100,  90],\n",
       "       [117, 108,  82, 107,  99],\n",
       "       [105, 103, 100, 109,  83],\n",
       "       [115, 119,  89,  89, 103]])"
      ]
     },
     "execution_count": 33,
     "metadata": {},
     "output_type": "execute_result"
    }
   ],
   "source": [
    "arr"
   ]
  },
  {
   "cell_type": "code",
   "execution_count": 35,
   "id": "0baeb8b5",
   "metadata": {},
   "outputs": [
    {
     "data": {
      "text/plain": [
       "array([ 1,  2,  4,  5,  7,  8, 10])"
      ]
     },
     "execution_count": 35,
     "metadata": {},
     "output_type": "execute_result"
    }
   ],
   "source": [
    "arr = np.arange(1, 11)\n",
    "arr[arr%3!=0]"
   ]
  },
  {
   "cell_type": "code",
   "execution_count": 36,
   "id": "66b014b4",
   "metadata": {},
   "outputs": [],
   "source": [
    "import pandas as pd\n",
    "\n",
    "df = pd.DataFrame({\"a\": list(\"aabbcc\"), \"b\": [1, 2, 3, 4, 5, 6]})\n",
    "df[\"rank_in_group\"] = df.groupby(\"a\")[\"b\"].rank(method=\"dense\", ascending=False)\n",
    "# Expected last column: [2,1,2,1,2,1]"
   ]
  },
  {
   "cell_type": "code",
   "execution_count": 37,
   "id": "79305560",
   "metadata": {},
   "outputs": [
    {
     "data": {
      "text/html": [
       "<div>\n",
       "<style scoped>\n",
       "    .dataframe tbody tr th:only-of-type {\n",
       "        vertical-align: middle;\n",
       "    }\n",
       "\n",
       "    .dataframe tbody tr th {\n",
       "        vertical-align: top;\n",
       "    }\n",
       "\n",
       "    .dataframe thead th {\n",
       "        text-align: right;\n",
       "    }\n",
       "</style>\n",
       "<table border=\"1\" class=\"dataframe\">\n",
       "  <thead>\n",
       "    <tr style=\"text-align: right;\">\n",
       "      <th></th>\n",
       "      <th>a</th>\n",
       "      <th>b</th>\n",
       "      <th>rank_in_group</th>\n",
       "    </tr>\n",
       "  </thead>\n",
       "  <tbody>\n",
       "    <tr>\n",
       "      <th>0</th>\n",
       "      <td>a</td>\n",
       "      <td>1</td>\n",
       "      <td>2.0</td>\n",
       "    </tr>\n",
       "    <tr>\n",
       "      <th>1</th>\n",
       "      <td>a</td>\n",
       "      <td>2</td>\n",
       "      <td>1.0</td>\n",
       "    </tr>\n",
       "    <tr>\n",
       "      <th>2</th>\n",
       "      <td>b</td>\n",
       "      <td>3</td>\n",
       "      <td>2.0</td>\n",
       "    </tr>\n",
       "    <tr>\n",
       "      <th>3</th>\n",
       "      <td>b</td>\n",
       "      <td>4</td>\n",
       "      <td>1.0</td>\n",
       "    </tr>\n",
       "    <tr>\n",
       "      <th>4</th>\n",
       "      <td>c</td>\n",
       "      <td>5</td>\n",
       "      <td>2.0</td>\n",
       "    </tr>\n",
       "    <tr>\n",
       "      <th>5</th>\n",
       "      <td>c</td>\n",
       "      <td>6</td>\n",
       "      <td>1.0</td>\n",
       "    </tr>\n",
       "  </tbody>\n",
       "</table>\n",
       "</div>"
      ],
      "text/plain": [
       "   a  b  rank_in_group\n",
       "0  a  1            2.0\n",
       "1  a  2            1.0\n",
       "2  b  3            2.0\n",
       "3  b  4            1.0\n",
       "4  c  5            2.0\n",
       "5  c  6            1.0"
      ]
     },
     "execution_count": 37,
     "metadata": {},
     "output_type": "execute_result"
    }
   ],
   "source": [
    "df"
   ]
  },
  {
   "cell_type": "code",
   "execution_count": 73,
   "id": "df851e26",
   "metadata": {},
   "outputs": [],
   "source": [
    "import numpy as np, pandas as pd\n",
    "\n",
    "np.random.seed(0)\n",
    "df = pd.DataFrame(\n",
    "    {\n",
    "        \"feature1\": np.concatenate([np.random.normal(100, 10, 100), [300, -50]]),\n",
    "        \"feature2\": np.concatenate([np.random.normal(0, 1, 100), [10, -8]]),\n",
    "    }\n",
    ")"
   ]
  },
  {
   "cell_type": "code",
   "execution_count": null,
   "id": "9bb1739b",
   "metadata": {},
   "outputs": [],
   "source": [
    "def outlier_removal(df:pd.DataFrame, column, zquantile:float=1.5)->pd.DataFrame:\n",
    "    q3 = df[column].quantile(q=.75)\n",
    "    q1 = df[column].quantile(q=0.25)\n",
    "    IQR = q3-q1\n",
    "\n",
    "    mask = ~((df[column]>q1-zquantile*IQR) & (df[column]<q3+zquantile*IQR))\n",
    "    # df = df.copy()\n",
    "    df.loc[mask, [column]] = np.nan\n",
    "    return df"
   ]
  },
  {
   "cell_type": "code",
   "execution_count": 75,
   "id": "72ab70c8",
   "metadata": {},
   "outputs": [
    {
     "data": {
      "text/html": [
       "<div>\n",
       "<style scoped>\n",
       "    .dataframe tbody tr th:only-of-type {\n",
       "        vertical-align: middle;\n",
       "    }\n",
       "\n",
       "    .dataframe tbody tr th {\n",
       "        vertical-align: top;\n",
       "    }\n",
       "\n",
       "    .dataframe thead th {\n",
       "        text-align: right;\n",
       "    }\n",
       "</style>\n",
       "<table border=\"1\" class=\"dataframe\">\n",
       "  <thead>\n",
       "    <tr style=\"text-align: right;\">\n",
       "      <th></th>\n",
       "      <th>feature1</th>\n",
       "      <th>feature2</th>\n",
       "    </tr>\n",
       "  </thead>\n",
       "  <tbody>\n",
       "    <tr>\n",
       "      <th>0</th>\n",
       "      <td>117.640523</td>\n",
       "      <td>1.883151</td>\n",
       "    </tr>\n",
       "    <tr>\n",
       "      <th>1</th>\n",
       "      <td>104.001572</td>\n",
       "      <td>-1.347759</td>\n",
       "    </tr>\n",
       "    <tr>\n",
       "      <th>2</th>\n",
       "      <td>109.787380</td>\n",
       "      <td>-1.270485</td>\n",
       "    </tr>\n",
       "    <tr>\n",
       "      <th>3</th>\n",
       "      <td>122.408932</td>\n",
       "      <td>0.969397</td>\n",
       "    </tr>\n",
       "    <tr>\n",
       "      <th>4</th>\n",
       "      <td>118.675580</td>\n",
       "      <td>-1.173123</td>\n",
       "    </tr>\n",
       "    <tr>\n",
       "      <th>...</th>\n",
       "      <td>...</td>\n",
       "      <td>...</td>\n",
       "    </tr>\n",
       "    <tr>\n",
       "      <th>97</th>\n",
       "      <td>117.858705</td>\n",
       "      <td>0.823504</td>\n",
       "    </tr>\n",
       "    <tr>\n",
       "      <th>98</th>\n",
       "      <td>101.269121</td>\n",
       "      <td>2.163236</td>\n",
       "    </tr>\n",
       "    <tr>\n",
       "      <th>99</th>\n",
       "      <td>104.019894</td>\n",
       "      <td>1.336528</td>\n",
       "    </tr>\n",
       "    <tr>\n",
       "      <th>100</th>\n",
       "      <td>300.000000</td>\n",
       "      <td>10.000000</td>\n",
       "    </tr>\n",
       "    <tr>\n",
       "      <th>101</th>\n",
       "      <td>-50.000000</td>\n",
       "      <td>-8.000000</td>\n",
       "    </tr>\n",
       "  </tbody>\n",
       "</table>\n",
       "<p>102 rows × 2 columns</p>\n",
       "</div>"
      ],
      "text/plain": [
       "       feature1   feature2\n",
       "0    117.640523   1.883151\n",
       "1    104.001572  -1.347759\n",
       "2    109.787380  -1.270485\n",
       "3    122.408932   0.969397\n",
       "4    118.675580  -1.173123\n",
       "..          ...        ...\n",
       "97   117.858705   0.823504\n",
       "98   101.269121   2.163236\n",
       "99   104.019894   1.336528\n",
       "100  300.000000  10.000000\n",
       "101  -50.000000  -8.000000\n",
       "\n",
       "[102 rows x 2 columns]"
      ]
     },
     "execution_count": 75,
     "metadata": {},
     "output_type": "execute_result"
    }
   ],
   "source": [
    "df"
   ]
  },
  {
   "cell_type": "code",
   "execution_count": null,
   "id": "bd7f2fbd",
   "metadata": {},
   "outputs": [
    {
     "data": {
      "text/html": [
       "<div>\n",
       "<style scoped>\n",
       "    .dataframe tbody tr th:only-of-type {\n",
       "        vertical-align: middle;\n",
       "    }\n",
       "\n",
       "    .dataframe tbody tr th {\n",
       "        vertical-align: top;\n",
       "    }\n",
       "\n",
       "    .dataframe thead th {\n",
       "        text-align: right;\n",
       "    }\n",
       "</style>\n",
       "<table border=\"1\" class=\"dataframe\">\n",
       "  <thead>\n",
       "    <tr style=\"text-align: right;\">\n",
       "      <th></th>\n",
       "      <th>feature1</th>\n",
       "      <th>feature2</th>\n",
       "    </tr>\n",
       "  </thead>\n",
       "  <tbody>\n",
       "    <tr>\n",
       "      <th>0</th>\n",
       "      <td>117.640523</td>\n",
       "      <td>1.883151</td>\n",
       "    </tr>\n",
       "    <tr>\n",
       "      <th>1</th>\n",
       "      <td>104.001572</td>\n",
       "      <td>-1.347759</td>\n",
       "    </tr>\n",
       "    <tr>\n",
       "      <th>2</th>\n",
       "      <td>109.787380</td>\n",
       "      <td>-1.270485</td>\n",
       "    </tr>\n",
       "    <tr>\n",
       "      <th>3</th>\n",
       "      <td>122.408932</td>\n",
       "      <td>0.969397</td>\n",
       "    </tr>\n",
       "    <tr>\n",
       "      <th>4</th>\n",
       "      <td>118.675580</td>\n",
       "      <td>-1.173123</td>\n",
       "    </tr>\n",
       "    <tr>\n",
       "      <th>...</th>\n",
       "      <td>...</td>\n",
       "      <td>...</td>\n",
       "    </tr>\n",
       "    <tr>\n",
       "      <th>97</th>\n",
       "      <td>117.858705</td>\n",
       "      <td>0.823504</td>\n",
       "    </tr>\n",
       "    <tr>\n",
       "      <th>98</th>\n",
       "      <td>101.269121</td>\n",
       "      <td>2.163236</td>\n",
       "    </tr>\n",
       "    <tr>\n",
       "      <th>99</th>\n",
       "      <td>104.019894</td>\n",
       "      <td>1.336528</td>\n",
       "    </tr>\n",
       "    <tr>\n",
       "      <th>100</th>\n",
       "      <td>NaN</td>\n",
       "      <td>10.000000</td>\n",
       "    </tr>\n",
       "    <tr>\n",
       "      <th>101</th>\n",
       "      <td>NaN</td>\n",
       "      <td>-8.000000</td>\n",
       "    </tr>\n",
       "  </tbody>\n",
       "</table>\n",
       "<p>102 rows × 2 columns</p>\n",
       "</div>"
      ],
      "text/plain": [
       "       feature1   feature2\n",
       "0    117.640523   1.883151\n",
       "1    104.001572  -1.347759\n",
       "2    109.787380  -1.270485\n",
       "3    122.408932   0.969397\n",
       "4    118.675580  -1.173123\n",
       "..          ...        ...\n",
       "97   117.858705   0.823504\n",
       "98   101.269121   2.163236\n",
       "99   104.019894   1.336528\n",
       "100         NaN  10.000000\n",
       "101         NaN  -8.000000\n",
       "\n",
       "[102 rows x 2 columns]"
      ]
     },
     "execution_count": 79,
     "metadata": {},
     "output_type": "execute_result"
    }
   ],
   "source": [
    "outlier_removal(df, \"feature1\")"
   ]
  },
  {
   "cell_type": "code",
   "execution_count": 89,
   "id": "7bd542fb",
   "metadata": {},
   "outputs": [
    {
     "data": {
      "text/html": [
       "<div>\n",
       "<style scoped>\n",
       "    .dataframe tbody tr th:only-of-type {\n",
       "        vertical-align: middle;\n",
       "    }\n",
       "\n",
       "    .dataframe tbody tr th {\n",
       "        vertical-align: top;\n",
       "    }\n",
       "\n",
       "    .dataframe thead th {\n",
       "        text-align: right;\n",
       "    }\n",
       "</style>\n",
       "<table border=\"1\" class=\"dataframe\">\n",
       "  <thead>\n",
       "    <tr style=\"text-align: right;\">\n",
       "      <th></th>\n",
       "      <th>feature1</th>\n",
       "      <th>feature2</th>\n",
       "    </tr>\n",
       "  </thead>\n",
       "  <tbody>\n",
       "    <tr>\n",
       "      <th>1</th>\n",
       "      <td>104.001572</td>\n",
       "      <td>-1.347759</td>\n",
       "    </tr>\n",
       "    <tr>\n",
       "      <th>2</th>\n",
       "      <td>109.787380</td>\n",
       "      <td>-1.270485</td>\n",
       "    </tr>\n",
       "    <tr>\n",
       "      <th>3</th>\n",
       "      <td>122.408932</td>\n",
       "      <td>0.969397</td>\n",
       "    </tr>\n",
       "    <tr>\n",
       "      <th>4</th>\n",
       "      <td>118.675580</td>\n",
       "      <td>-1.173123</td>\n",
       "    </tr>\n",
       "    <tr>\n",
       "      <th>6</th>\n",
       "      <td>109.500884</td>\n",
       "      <td>-0.413619</td>\n",
       "    </tr>\n",
       "    <tr>\n",
       "      <th>...</th>\n",
       "      <td>...</td>\n",
       "      <td>...</td>\n",
       "    </tr>\n",
       "    <tr>\n",
       "      <th>94</th>\n",
       "      <td>103.563664</td>\n",
       "      <td>0.523277</td>\n",
       "    </tr>\n",
       "    <tr>\n",
       "      <th>95</th>\n",
       "      <td>107.065732</td>\n",
       "      <td>-0.171546</td>\n",
       "    </tr>\n",
       "    <tr>\n",
       "      <th>96</th>\n",
       "      <td>100.105000</td>\n",
       "      <td>0.771791</td>\n",
       "    </tr>\n",
       "    <tr>\n",
       "      <th>97</th>\n",
       "      <td>117.858705</td>\n",
       "      <td>0.823504</td>\n",
       "    </tr>\n",
       "    <tr>\n",
       "      <th>99</th>\n",
       "      <td>104.019894</td>\n",
       "      <td>1.336528</td>\n",
       "    </tr>\n",
       "  </tbody>\n",
       "</table>\n",
       "<p>88 rows × 2 columns</p>\n",
       "</div>"
      ],
      "text/plain": [
       "      feature1  feature2\n",
       "1   104.001572 -1.347759\n",
       "2   109.787380 -1.270485\n",
       "3   122.408932  0.969397\n",
       "4   118.675580 -1.173123\n",
       "6   109.500884 -0.413619\n",
       "..         ...       ...\n",
       "94  103.563664  0.523277\n",
       "95  107.065732 -0.171546\n",
       "96  100.105000  0.771791\n",
       "97  117.858705  0.823504\n",
       "99  104.019894  1.336528\n",
       "\n",
       "[88 rows x 2 columns]"
      ]
     },
     "execution_count": 89,
     "metadata": {},
     "output_type": "execute_result"
    }
   ],
   "source": [
    "from scipy import stats\n",
    "df[(np.abs(stats.zscore(df))<1).all(axis=1)]"
   ]
  },
  {
   "cell_type": "code",
   "execution_count": 88,
   "id": "35e3753b",
   "metadata": {},
   "outputs": [
    {
     "data": {
      "text/html": [
       "<div>\n",
       "<style scoped>\n",
       "    .dataframe tbody tr th:only-of-type {\n",
       "        vertical-align: middle;\n",
       "    }\n",
       "\n",
       "    .dataframe tbody tr th {\n",
       "        vertical-align: top;\n",
       "    }\n",
       "\n",
       "    .dataframe thead th {\n",
       "        text-align: right;\n",
       "    }\n",
       "</style>\n",
       "<table border=\"1\" class=\"dataframe\">\n",
       "  <thead>\n",
       "    <tr style=\"text-align: right;\">\n",
       "      <th></th>\n",
       "      <th>feature1</th>\n",
       "      <th>feature2</th>\n",
       "    </tr>\n",
       "  </thead>\n",
       "  <tbody>\n",
       "    <tr>\n",
       "      <th>0</th>\n",
       "      <td>117.640523</td>\n",
       "      <td>1.883151</td>\n",
       "    </tr>\n",
       "    <tr>\n",
       "      <th>1</th>\n",
       "      <td>104.001572</td>\n",
       "      <td>-1.347759</td>\n",
       "    </tr>\n",
       "    <tr>\n",
       "      <th>2</th>\n",
       "      <td>109.787380</td>\n",
       "      <td>-1.270485</td>\n",
       "    </tr>\n",
       "    <tr>\n",
       "      <th>3</th>\n",
       "      <td>122.408932</td>\n",
       "      <td>0.969397</td>\n",
       "    </tr>\n",
       "    <tr>\n",
       "      <th>4</th>\n",
       "      <td>118.675580</td>\n",
       "      <td>-1.173123</td>\n",
       "    </tr>\n",
       "    <tr>\n",
       "      <th>...</th>\n",
       "      <td>...</td>\n",
       "      <td>...</td>\n",
       "    </tr>\n",
       "    <tr>\n",
       "      <th>97</th>\n",
       "      <td>117.858705</td>\n",
       "      <td>0.823504</td>\n",
       "    </tr>\n",
       "    <tr>\n",
       "      <th>98</th>\n",
       "      <td>101.269121</td>\n",
       "      <td>2.163236</td>\n",
       "    </tr>\n",
       "    <tr>\n",
       "      <th>99</th>\n",
       "      <td>104.019894</td>\n",
       "      <td>1.336528</td>\n",
       "    </tr>\n",
       "    <tr>\n",
       "      <th>100</th>\n",
       "      <td>300.000000</td>\n",
       "      <td>10.000000</td>\n",
       "    </tr>\n",
       "    <tr>\n",
       "      <th>101</th>\n",
       "      <td>-50.000000</td>\n",
       "      <td>-8.000000</td>\n",
       "    </tr>\n",
       "  </tbody>\n",
       "</table>\n",
       "<p>102 rows × 2 columns</p>\n",
       "</div>"
      ],
      "text/plain": [
       "       feature1   feature2\n",
       "0    117.640523   1.883151\n",
       "1    104.001572  -1.347759\n",
       "2    109.787380  -1.270485\n",
       "3    122.408932   0.969397\n",
       "4    118.675580  -1.173123\n",
       "..          ...        ...\n",
       "97   117.858705   0.823504\n",
       "98   101.269121   2.163236\n",
       "99   104.019894   1.336528\n",
       "100  300.000000  10.000000\n",
       "101  -50.000000  -8.000000\n",
       "\n",
       "[102 rows x 2 columns]"
      ]
     },
     "execution_count": 88,
     "metadata": {},
     "output_type": "execute_result"
    }
   ],
   "source": [
    "df"
   ]
  },
  {
   "cell_type": "code",
   "execution_count": 91,
   "id": "92be6841",
   "metadata": {},
   "outputs": [
    {
     "data": {
      "text/html": [
       "<div>\n",
       "<style scoped>\n",
       "    .dataframe tbody tr th:only-of-type {\n",
       "        vertical-align: middle;\n",
       "    }\n",
       "\n",
       "    .dataframe tbody tr th {\n",
       "        vertical-align: top;\n",
       "    }\n",
       "\n",
       "    .dataframe thead th {\n",
       "        text-align: right;\n",
       "    }\n",
       "</style>\n",
       "<table border=\"1\" class=\"dataframe\">\n",
       "  <thead>\n",
       "    <tr style=\"text-align: right;\">\n",
       "      <th></th>\n",
       "      <th>a</th>\n",
       "      <th>b</th>\n",
       "    </tr>\n",
       "  </thead>\n",
       "  <tbody>\n",
       "    <tr>\n",
       "      <th>0</th>\n",
       "      <td>x</td>\n",
       "      <td>1</td>\n",
       "    </tr>\n",
       "    <tr>\n",
       "      <th>1</th>\n",
       "      <td>x</td>\n",
       "      <td>2</td>\n",
       "    </tr>\n",
       "    <tr>\n",
       "      <th>2</th>\n",
       "      <td>x</td>\n",
       "      <td>5</td>\n",
       "    </tr>\n",
       "    <tr>\n",
       "      <th>5</th>\n",
       "      <td>z</td>\n",
       "      <td>2</td>\n",
       "    </tr>\n",
       "    <tr>\n",
       "      <th>6</th>\n",
       "      <td>z</td>\n",
       "      <td>4</td>\n",
       "    </tr>\n",
       "    <tr>\n",
       "      <th>7</th>\n",
       "      <td>z</td>\n",
       "      <td>9</td>\n",
       "    </tr>\n",
       "  </tbody>\n",
       "</table>\n",
       "</div>"
      ],
      "text/plain": [
       "   a  b\n",
       "0  x  1\n",
       "1  x  2\n",
       "2  x  5\n",
       "5  z  2\n",
       "6  z  4\n",
       "7  z  9"
      ]
     },
     "execution_count": 91,
     "metadata": {},
     "output_type": "execute_result"
    }
   ],
   "source": [
    "df = pd.DataFrame(\n",
    "    {\"a\": [\"x\", \"x\", \"x\", \"y\", \"y\", \"z\", \"z\", \"z\"], \"b\": [1, 2, 5, 1, 3, 2, 4, 9]}\n",
    ")\n",
    "df.groupby(\"a\").filter(lambda x: (x[\"b\"]>=4).any())"
   ]
  },
  {
   "cell_type": "code",
   "execution_count": null,
   "id": "0c31ef36",
   "metadata": {},
   "outputs": [],
   "source": [
    "df = pd.DataFrame(\n",
    "    {\n",
    "        \"city\": [\"NY\", \"NY\", \"LA\", \"LA\", \"CHI\", \"CHI\"],\n",
    "        \"temp\": [30, 35, 25, 100, 20, 18],\n",
    "        \"rain\": [0, 5, 10, 0, 20, 0],\n",
    "    }\n",
    ")\n",
    "df.groupby(\"city\").filter(lambda x: ((x[\"temp\"]>90) and (x[\"rain\"]==0)).any())\n",
    "df.groupby('city').filter(lambda g: ((g['temp']>90)    &(g['rain']==0)).any())"
   ]
  },
  {
   "cell_type": "code",
   "execution_count": 102,
   "id": "9e3be385",
   "metadata": {},
   "outputs": [
    {
     "data": {
      "text/plain": [
       "array([[ 0, 70, 36, 70],\n",
       "       [20,  3, 42, 65],\n",
       "       [20, 36, 68, 70],\n",
       "       [47, 10, 70, 70]])"
      ]
     },
     "execution_count": 102,
     "metadata": {},
     "output_type": "execute_result"
    }
   ],
   "source": [
    "arr = np.random.randint(0, 100, (4,4))\n",
    "np.where(arr>70, 70, arr)\n",
    "np.clip(arr, a_min=0, a_max=70)"
   ]
  },
  {
   "cell_type": "code",
   "execution_count": 103,
   "id": "c80aa4be",
   "metadata": {},
   "outputs": [],
   "source": [
    "arr = np.random.randn(100)\n",
    "p95 = np.percentile(arr, 95)\n",
    "arr_clipped = np.clip(arr, None, p95)\n",
    "# Verify: np.max(arr_clipped) == p95\n"
   ]
  },
  {
   "cell_type": "code",
   "execution_count": 104,
   "id": "db19f72b",
   "metadata": {},
   "outputs": [
    {
     "data": {
      "text/plain": [
       "np.float64(1.8454502827806256)"
      ]
     },
     "execution_count": 104,
     "metadata": {},
     "output_type": "execute_result"
    }
   ],
   "source": [
    "p95"
   ]
  }
 ],
 "metadata": {
  "kernelspec": {
   "display_name": "dsenv",
   "language": "python",
   "name": "python3"
  },
  "language_info": {
   "codemirror_mode": {
    "name": "ipython",
    "version": 3
   },
   "file_extension": ".py",
   "mimetype": "text/x-python",
   "name": "python",
   "nbconvert_exporter": "python",
   "pygments_lexer": "ipython3",
   "version": "3.13.2"
  }
 },
 "nbformat": 4,
 "nbformat_minor": 5
}
